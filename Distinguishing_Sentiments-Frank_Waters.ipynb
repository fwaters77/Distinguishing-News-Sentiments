{
 "cells": [
  {
   "cell_type": "code",
   "execution_count": 1,
   "metadata": {},
   "outputs": [],
   "source": [
    "#dependences\n",
    "import tweepy\n",
    "import pandas as pd\n",
    "import numpy as np\n",
    "import json\n",
    "import seaborn as sns\n",
    "import matplotlib.pyplot as plt\n",
    "from datetime import datetime, timezone"
   ]
  },
  {
   "cell_type": "code",
   "execution_count": 2,
   "metadata": {
    "collapsed": true
   },
   "outputs": [],
   "source": [
    "#import vader for sentiment analysis\n",
    "from vaderSentiment.vaderSentiment import SentimentIntensityAnalyzer\n",
    "analyzer = SentimentIntensityAnalyzer()"
   ]
  },
  {
   "cell_type": "code",
   "execution_count": 3,
   "metadata": {
    "collapsed": true
   },
   "outputs": [],
   "source": [
    "# Twitter API Keys\n",
    "consumer_key = \"r13GARnSlIYpn4rT8Cky7lggU\"\n",
    "consumer_secret = \"jNzYyOlz2cKvN5hqTetJGpa9C2HxeTGrq6FLb6J1VlZRwkFMg8\"\n",
    "access_token = \"365121943-MtrTOA6FQ7ZXgkDM70f4fbrvmjI5vtucwok4nd8U\"\n",
    "access_token_secret = \"7LiSAbsWOyLjpagesrBduFvL82NcP4rrdodlMfzCM9Q0r\""
   ]
  },
  {
   "cell_type": "code",
   "execution_count": 4,
   "metadata": {
    "collapsed": true
   },
   "outputs": [],
   "source": [
    "#autheticate\n",
    "auth = tweepy.OAuthHandler(consumer_key, consumer_secret)\n",
    "auth.set_access_token(access_token, access_token_secret)\n",
    "api = tweepy.API(auth, parser=tweepy.parsers.JSONParser())"
   ]
  },
  {
   "cell_type": "code",
   "execution_count": 5,
   "metadata": {
    "collapsed": true
   },
   "outputs": [],
   "source": [
    "#make dictionary of twitter SNs, network names, and colors for graphs\n",
    "news_labels = {'CNN': \n",
    "                   {'name': 'CNN', \n",
    "                    'color': 'red'}, \n",
    "               'BBCWorld': \n",
    "                   {'name': 'BBC World News', \n",
    "                    'color': 'blue'}, \n",
    "               'CBSNews': \n",
    "                   {'name': 'CBS', \n",
    "                    'color': 'lightblue'},\n",
    "               'nytimes': \n",
    "                   {'name': 'New York Times', \n",
    "                    'color': 'green'}, \n",
    "               'FoxNews': \n",
    "                   {'name': 'Fox', \n",
    "                    'color': 'yellow'}}"
   ]
  },
  {
   "cell_type": "code",
   "execution_count": 6,
   "metadata": {
    "collapsed": true
   },
   "outputs": [],
   "source": [
    "news_dict = {\n",
    "    \"Screen Name\": [],\n",
    "    \"Tweet\": [],\n",
    "    \"Date\": [],\n",
    "    \"Compound Score\": [],\n",
    "    \"Positive Score\": [],\n",
    "    \"Negative Score\": [],\n",
    "    \"Neutral Score\": [],\n",
    "    \"Tweets Ago\": []\n",
    "}"
   ]
  },
  {
   "cell_type": "code",
   "execution_count": 7,
   "metadata": {
    "collapsed": true
   },
   "outputs": [],
   "source": [
    "# loop through SNs in dictionary\n",
    "for news_org in news_labels.keys():\n",
    "    tweets_ago = 1 #counts tweets 1 - most current 100 - least current, resets for each news_org\n",
    "    for x in range(5): # loops through 5 pages of 20 tweets\n",
    "        if x == 0:\n",
    "            response = api.user_timeline(news_org, count = 20) #most recent 20 tweets\n",
    "        else:\n",
    "            response = api.user_timeline(news_org, max_id = end_id-1 , count = 20) # next 20 most recent tweets each time\n",
    "        for tweet in response: # disects each tweet and pulls necessary info\n",
    "            text = tweet['text'] #tweet text\n",
    "            date = tweet['created_at'] #time created\n",
    "            convert_date = datetime.strptime(date, \"%a %b %d %H:%M:%S %z %Y\") #converts date to sortable time\n",
    "            user = tweet['user']['screen_name'] #SN of user\n",
    "            end_id = tweet['id'] # gets id of tweet to be used in loop for next 20 results\n",
    "            scores = analyzer.polarity_scores(text) # scores the text in tweet using VADER\n",
    "            news_dict['Screen Name'].append(user) # adds SN to dict\n",
    "            news_dict['Tweet'].append(text) # adds tweet text to dict\n",
    "            news_dict['Date'].append(convert_date) # adds converted date to dict\n",
    "            news_dict['Compound Score'].append(scores['compound']) \n",
    "            news_dict['Positive Score'].append(scores['pos'])\n",
    "            news_dict['Negative Score'].append(scores['neg'])\n",
    "            news_dict['Neutral Score'].append(scores['neu'])\n",
    "            news_dict['Tweets Ago'].append(tweets_ago)\n",
    "            tweets_ago += 1 # sets tweets ago count for next record"
   ]
  },
  {
   "cell_type": "code",
   "execution_count": 9,
   "metadata": {},
   "outputs": [
    {
     "data": {
      "text/html": [
       "<div>\n",
       "<style>\n",
       "    .dataframe thead tr:only-child th {\n",
       "        text-align: right;\n",
       "    }\n",
       "\n",
       "    .dataframe thead th {\n",
       "        text-align: left;\n",
       "    }\n",
       "\n",
       "    .dataframe tbody tr th {\n",
       "        vertical-align: top;\n",
       "    }\n",
       "</style>\n",
       "<table border=\"1\" class=\"dataframe\">\n",
       "  <thead>\n",
       "    <tr style=\"text-align: right;\">\n",
       "      <th></th>\n",
       "      <th>Compound Score</th>\n",
       "      <th>Date</th>\n",
       "      <th>Negative Score</th>\n",
       "      <th>Neutral Score</th>\n",
       "      <th>Positive Score</th>\n",
       "      <th>Screen Name</th>\n",
       "      <th>Tweet</th>\n",
       "      <th>Tweets Ago</th>\n",
       "    </tr>\n",
       "  </thead>\n",
       "  <tbody>\n",
       "    <tr>\n",
       "      <th>0</th>\n",
       "      <td>-0.2732</td>\n",
       "      <td>2018-03-06 23:49:07+00:00</td>\n",
       "      <td>0.130</td>\n",
       "      <td>0.870</td>\n",
       "      <td>0.000</td>\n",
       "      <td>CNN</td>\n",
       "      <td>Presidential seal on Trump golf tees? A new lo...</td>\n",
       "      <td>1</td>\n",
       "    </tr>\n",
       "    <tr>\n",
       "      <th>1</th>\n",
       "      <td>-0.5267</td>\n",
       "      <td>2018-03-06 23:41:06+00:00</td>\n",
       "      <td>0.185</td>\n",
       "      <td>0.815</td>\n",
       "      <td>0.000</td>\n",
       "      <td>CNN</td>\n",
       "      <td>A group of senators are requesting an investig...</td>\n",
       "      <td>2</td>\n",
       "    </tr>\n",
       "    <tr>\n",
       "      <th>2</th>\n",
       "      <td>-0.5267</td>\n",
       "      <td>2018-03-06 23:38:01+00:00</td>\n",
       "      <td>0.175</td>\n",
       "      <td>0.825</td>\n",
       "      <td>0.000</td>\n",
       "      <td>CNN</td>\n",
       "      <td>Jeffrey Toobin: \"Gary Cohn made a big show of ...</td>\n",
       "      <td>3</td>\n",
       "    </tr>\n",
       "    <tr>\n",
       "      <th>3</th>\n",
       "      <td>-0.1531</td>\n",
       "      <td>2018-03-06 23:36:04+00:00</td>\n",
       "      <td>0.082</td>\n",
       "      <td>0.865</td>\n",
       "      <td>0.053</td>\n",
       "      <td>CNN</td>\n",
       "      <td>\"It is laughable to argue an officer should go...</td>\n",
       "      <td>4</td>\n",
       "    </tr>\n",
       "    <tr>\n",
       "      <th>4</th>\n",
       "      <td>0.0000</td>\n",
       "      <td>2018-03-06 23:31:07+00:00</td>\n",
       "      <td>0.000</td>\n",
       "      <td>1.000</td>\n",
       "      <td>0.000</td>\n",
       "      <td>CNN</td>\n",
       "      <td>White House chief of staff John Kelly listens ...</td>\n",
       "      <td>5</td>\n",
       "    </tr>\n",
       "  </tbody>\n",
       "</table>\n",
       "</div>"
      ],
      "text/plain": [
       "   Compound Score                      Date  Negative Score  Neutral Score  \\\n",
       "0         -0.2732 2018-03-06 23:49:07+00:00           0.130          0.870   \n",
       "1         -0.5267 2018-03-06 23:41:06+00:00           0.185          0.815   \n",
       "2         -0.5267 2018-03-06 23:38:01+00:00           0.175          0.825   \n",
       "3         -0.1531 2018-03-06 23:36:04+00:00           0.082          0.865   \n",
       "4          0.0000 2018-03-06 23:31:07+00:00           0.000          1.000   \n",
       "\n",
       "   Positive Score Screen Name  \\\n",
       "0           0.000         CNN   \n",
       "1           0.000         CNN   \n",
       "2           0.000         CNN   \n",
       "3           0.053         CNN   \n",
       "4           0.000         CNN   \n",
       "\n",
       "                                               Tweet  Tweets Ago  \n",
       "0  Presidential seal on Trump golf tees? A new lo...           1  \n",
       "1  A group of senators are requesting an investig...           2  \n",
       "2  Jeffrey Toobin: \"Gary Cohn made a big show of ...           3  \n",
       "3  \"It is laughable to argue an officer should go...           4  \n",
       "4  White House chief of staff John Kelly listens ...           5  "
      ]
     },
     "execution_count": 9,
     "metadata": {},
     "output_type": "execute_result"
    }
   ],
   "source": [
    "#converts to dataframe\n",
    "news_df = pd.DataFrame(news_dict)\n",
    "\n",
    "news_df.head()"
   ]
  },
  {
   "cell_type": "code",
   "execution_count": 11,
   "metadata": {},
   "outputs": [
    {
     "data": {
      "text/plain": [
       "500"
      ]
     },
     "execution_count": 11,
     "metadata": {},
     "output_type": "execute_result"
    }
   ],
   "source": [
    "len(news_df)"
   ]
  },
  {
   "cell_type": "code",
   "execution_count": 16,
   "metadata": {},
   "outputs": [
    {
     "ename": "FileNotFoundError",
     "evalue": "[Errno 2] No such file or directory: 'Distinguishing-News-Sentiments/Output_CSVs/news_analysis.csv'",
     "output_type": "error",
     "traceback": [
      "\u001b[0;31m---------------------------------------------------------------------------\u001b[0m",
      "\u001b[0;31mFileNotFoundError\u001b[0m                         Traceback (most recent call last)",
      "\u001b[0;32m<ipython-input-16-bc459e2f9360>\u001b[0m in \u001b[0;36m<module>\u001b[0;34m()\u001b[0m\n\u001b[0;32m----> 1\u001b[0;31m \u001b[0mnews_df\u001b[0m\u001b[0;34m.\u001b[0m\u001b[0mto_csv\u001b[0m\u001b[0;34m(\u001b[0m\u001b[0;34m'Distinguishing-News-Sentiments/Output_CSVs/news_analysis.csv'\u001b[0m\u001b[0;34m)\u001b[0m\u001b[0;34m\u001b[0m\u001b[0m\n\u001b[0m",
      "\u001b[0;32m~/anaconda3/envs/PythonData/lib/python3.6/site-packages/pandas/core/frame.py\u001b[0m in \u001b[0;36mto_csv\u001b[0;34m(self, path_or_buf, sep, na_rep, float_format, columns, header, index, index_label, mode, encoding, compression, quoting, quotechar, line_terminator, chunksize, tupleize_cols, date_format, doublequote, escapechar, decimal)\u001b[0m\n\u001b[1;32m   1401\u001b[0m                                      \u001b[0mdoublequote\u001b[0m\u001b[0;34m=\u001b[0m\u001b[0mdoublequote\u001b[0m\u001b[0;34m,\u001b[0m\u001b[0;34m\u001b[0m\u001b[0m\n\u001b[1;32m   1402\u001b[0m                                      escapechar=escapechar, decimal=decimal)\n\u001b[0;32m-> 1403\u001b[0;31m         \u001b[0mformatter\u001b[0m\u001b[0;34m.\u001b[0m\u001b[0msave\u001b[0m\u001b[0;34m(\u001b[0m\u001b[0;34m)\u001b[0m\u001b[0;34m\u001b[0m\u001b[0m\n\u001b[0m\u001b[1;32m   1404\u001b[0m \u001b[0;34m\u001b[0m\u001b[0m\n\u001b[1;32m   1405\u001b[0m         \u001b[0;32mif\u001b[0m \u001b[0mpath_or_buf\u001b[0m \u001b[0;32mis\u001b[0m \u001b[0;32mNone\u001b[0m\u001b[0;34m:\u001b[0m\u001b[0;34m\u001b[0m\u001b[0m\n",
      "\u001b[0;32m~/anaconda3/envs/PythonData/lib/python3.6/site-packages/pandas/io/formats/format.py\u001b[0m in \u001b[0;36msave\u001b[0;34m(self)\u001b[0m\n\u001b[1;32m   1575\u001b[0m             f, handles = _get_handle(self.path_or_buf, self.mode,\n\u001b[1;32m   1576\u001b[0m                                      \u001b[0mencoding\u001b[0m\u001b[0;34m=\u001b[0m\u001b[0mself\u001b[0m\u001b[0;34m.\u001b[0m\u001b[0mencoding\u001b[0m\u001b[0;34m,\u001b[0m\u001b[0;34m\u001b[0m\u001b[0m\n\u001b[0;32m-> 1577\u001b[0;31m                                      compression=self.compression)\n\u001b[0m\u001b[1;32m   1578\u001b[0m             \u001b[0mclose\u001b[0m \u001b[0;34m=\u001b[0m \u001b[0;32mTrue\u001b[0m\u001b[0;34m\u001b[0m\u001b[0m\n\u001b[1;32m   1579\u001b[0m \u001b[0;34m\u001b[0m\u001b[0m\n",
      "\u001b[0;32m~/anaconda3/envs/PythonData/lib/python3.6/site-packages/pandas/io/common.py\u001b[0m in \u001b[0;36m_get_handle\u001b[0;34m(path_or_buf, mode, encoding, compression, memory_map, is_text)\u001b[0m\n\u001b[1;32m    383\u001b[0m         \u001b[0;32melif\u001b[0m \u001b[0mis_text\u001b[0m\u001b[0;34m:\u001b[0m\u001b[0;34m\u001b[0m\u001b[0m\n\u001b[1;32m    384\u001b[0m             \u001b[0;31m# Python 3 and no explicit encoding\u001b[0m\u001b[0;34m\u001b[0m\u001b[0;34m\u001b[0m\u001b[0m\n\u001b[0;32m--> 385\u001b[0;31m             \u001b[0mf\u001b[0m \u001b[0;34m=\u001b[0m \u001b[0mopen\u001b[0m\u001b[0;34m(\u001b[0m\u001b[0mpath_or_buf\u001b[0m\u001b[0;34m,\u001b[0m \u001b[0mmode\u001b[0m\u001b[0;34m,\u001b[0m \u001b[0merrors\u001b[0m\u001b[0;34m=\u001b[0m\u001b[0;34m'replace'\u001b[0m\u001b[0;34m)\u001b[0m\u001b[0;34m\u001b[0m\u001b[0m\n\u001b[0m\u001b[1;32m    386\u001b[0m         \u001b[0;32melse\u001b[0m\u001b[0;34m:\u001b[0m\u001b[0;34m\u001b[0m\u001b[0m\n\u001b[1;32m    387\u001b[0m             \u001b[0;31m# Python 3 and binary mode\u001b[0m\u001b[0;34m\u001b[0m\u001b[0;34m\u001b[0m\u001b[0m\n",
      "\u001b[0;31mFileNotFoundError\u001b[0m: [Errno 2] No such file or directory: 'Distinguishing-News-Sentiments/Output_CSVs/news_analysis.csv'"
     ]
    }
   ],
   "source": [
    "news_df.to_csv('Distinguishing-News-Sentiments/Output_CSVs/news_analysis.csv')\n"
   ]
  },
  {
   "cell_type": "code",
   "execution_count": null,
   "metadata": {
    "collapsed": true
   },
   "outputs": [],
   "source": []
  },
  {
   "cell_type": "code",
   "execution_count": null,
   "metadata": {
    "collapsed": true
   },
   "outputs": [],
   "source": []
  }
 ],
 "metadata": {
  "kernelspec": {
   "display_name": "Python 3",
   "language": "python",
   "name": "python3"
  },
  "language_info": {
   "codemirror_mode": {
    "name": "ipython",
    "version": 3
   },
   "file_extension": ".py",
   "mimetype": "text/x-python",
   "name": "python",
   "nbconvert_exporter": "python",
   "pygments_lexer": "ipython3",
   "version": "3.6.3"
  }
 },
 "nbformat": 4,
 "nbformat_minor": 2
}
